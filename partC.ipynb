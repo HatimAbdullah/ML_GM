{
  "nbformat": 4,
  "nbformat_minor": 0,
  "metadata": {
    "colab": {
      "name": "partC.ipynb",
      "provenance": [],
      "collapsed_sections": []
    },
    "kernelspec": {
      "name": "python3",
      "display_name": "Python 3"
    }
  },
  "cells": [
    {
      "cell_type": "code",
      "metadata": {
        "id": "EIwSrvRgNfky",
        "colab_type": "code",
        "colab": {}
      },
      "source": [
        "# Standard includes\n",
        "%matplotlib inline\n",
        "import numpy as np\n",
        "import matplotlib.pyplot as plt\n",
        "# Useful module for dealing with the Gaussian density\n",
        "from scipy.stats import norm, multivariate_normal #in case you use buit-in library\n",
        "from sklearn import datasets"
      ],
      "execution_count": 0,
      "outputs": []
    },
    {
      "cell_type": "code",
      "metadata": {
        "id": "xd96phiaNmxI",
        "colab_type": "code",
        "colab": {}
      },
      "source": [
        "# Load data set.\n",
        "iris = datasets.load_iris()\n",
        "X = iris.data\n",
        "Y = iris.target\n",
        "featurenames = ['petal_length', 'petal_width', 'sepal_length', 'sepal_width']\n",
        "\n",
        "# Split 150 instances into training set (trainx, trainy) of size 105 and test set (testx, testy) of size 45\n",
        "np.random.seed(0)\n",
        "perm = np.random.permutation(150)\n",
        "trainx = X[perm[0:105],:]\n",
        "trainy = Y[perm[0:105]]\n",
        "testx = X[perm[105:150],:]\n",
        "testy = Y[perm[105:150]]"
      ],
      "execution_count": 0,
      "outputs": []
    },
    {
      "cell_type": "code",
      "metadata": {
        "id": "ggxwScKdN7m6",
        "colab_type": "code",
        "colab": {}
      },
      "source": [
        "def fit_generative_model(x,y):\n",
        "    k = 3  # labels 1,2,...,k\n",
        "    d = (x.shape)[1]  # number of features\n",
        "    mu = np.zeros((k,d))\n",
        "    sigma = np.zeros((k,d,d))\n",
        "    pi = np.zeros(k)\n",
        "    for label in range(0,k):\n",
        "        indices = (y == label)\n",
        "        sample = x[indices,:]\n",
        "        for i in range(d):\n",
        "            mu[label,i] = np.mean(sample[:,i])\n",
        "        \n",
        "        for i in range(d):\n",
        "            for j in range(d):\n",
        "                sigma[label,i,j] = np.mean(sample[:,i] * sample[:,j]) - mu[label,i] * mu[label,j]\n",
        "        pi[label] = np.sum(indices) / len(y)\n",
        "    return mu, sigma, pi"
      ],
      "execution_count": 0,
      "outputs": []
    },
    {
      "cell_type": "code",
      "metadata": {
        "id": "5ykuoZXTOCSQ",
        "colab_type": "code",
        "colab": {}
      },
      "source": [
        "# Fit a Gaussian generative model to the training data\n",
        "mu, sigma, pi = fit_generative_model(trainx,trainy)"
      ],
      "execution_count": 0,
      "outputs": []
    },
    {
      "cell_type": "code",
      "metadata": {
        "id": "cU8ncKBUOpQW",
        "colab_type": "code",
        "colab": {}
      },
      "source": [
        "# Now test the performance of a predictor based on a subset of features\n",
        "def test_model(mu, sigma, pi, features, tx, ty):\n",
        "    nt = len(ty)\n",
        "    k = 3\n",
        "    d = len(features)\n",
        "\n",
        "    features_bag = [0,1,2,3]\n",
        "    features_bag = np.delete(features_bag, features, axis=0)\n",
        "    mean = np.delete(mu, features_bag, axis=1)\n",
        "    tx = np.delete(tx, features_bag, axis=1)\n",
        "    cov = np.zeros((k,d,d))\n",
        "\n",
        "    for label in range(0,k):\n",
        "        for i in range(d):\n",
        "            for j in range(d):\n",
        "                cov[label,i,j] = sigma[label,i,j]\n",
        "\n",
        "    score = np.zeros((nt,k))\n",
        "    predictions = np.zeros(nt)\n",
        "    for i in range(0,nt):\n",
        "        for label in range(0,k):\n",
        "            det = np.linalg.det(cov[label,:,])\n",
        "            inv = np.linalg.inv(cov[label,:,])\n",
        "            l = np.subtract(tx[i],mean[label]).transpose()\n",
        "            r = np.subtract(tx[i],mean[label])\n",
        "            pdf = np.exp((-1/2) * np.dot(np.dot(l,inv),r)) / np.sqrt(np.power(2 * np.pi,4) * det)  \n",
        "            score[i,label] = np.log(pdf) * pi[label] \n",
        "    \n",
        "    for j in range(nt):\n",
        "        predictions[j] = np.argmax(score[j,])\n",
        "        \n",
        "    # Finally, tally up score\n",
        "    errors = np.sum(predictions != ty)\n",
        "    print (str(errors) + '/' + str(nt))"
      ],
      "execution_count": 0,
      "outputs": []
    },
    {
      "cell_type": "code",
      "metadata": {
        "id": "ntdQaPV_RUJP",
        "colab_type": "code",
        "outputId": "6373054d-32f2-4e4e-8b51-8bd905590b3d",
        "colab": {
          "base_uri": "https://localhost:8080/",
          "height": 34
        }
      },
      "source": [
        "test_model(mu, sigma, pi, [0], testx, testy)"
      ],
      "execution_count": 229,
      "outputs": [
        {
          "output_type": "stream",
          "text": [
            "12/45\n"
          ],
          "name": "stdout"
        }
      ]
    },
    {
      "cell_type": "code",
      "metadata": {
        "id": "WGPUOw9b_Kcd",
        "colab_type": "code",
        "colab": {
          "base_uri": "https://localhost:8080/",
          "height": 34
        },
        "outputId": "5d797e09-6cdb-484b-bf5b-258c6bb6366f"
      },
      "source": [
        "test_model(mu, sigma, pi, [0, 1], testx, testy)"
      ],
      "execution_count": 230,
      "outputs": [
        {
          "output_type": "stream",
          "text": [
            "9/45\n"
          ],
          "name": "stdout"
        }
      ]
    },
    {
      "cell_type": "code",
      "metadata": {
        "id": "hYIi-Yqk_yNb",
        "colab_type": "code",
        "colab": {
          "base_uri": "https://localhost:8080/",
          "height": 34
        },
        "outputId": "6c35f692-823c-4368-fbb4-44cd7e7591ea"
      },
      "source": [
        "test_model(mu, sigma, pi, [0, 1, 2, 3], testx, testy)"
      ],
      "execution_count": 231,
      "outputs": [
        {
          "output_type": "stream",
          "text": [
            "1/45\n"
          ],
          "name": "stdout"
        }
      ]
    }
  ]
}